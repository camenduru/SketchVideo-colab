{
  "cells": [
    {
      "cell_type": "markdown",
      "metadata": {
        "id": "view-in-github"
      },
      "source": [
        "[![Open In Colab](https://colab.research.google.com/assets/colab-badge.svg)](https://colab.research.google.com/github/camenduru/SketchVideo-colab/blob/main/SketchVideo_colab.ipynb)"
      ]
    },
    {
      "cell_type": "code",
      "execution_count": null,
      "metadata": {
        "id": "VjYy0F2gZIPR"
      },
      "outputs": [],
      "source": [
        "%cd /content\n",
        "!git clone -b dev https://github.com/camenduru/SketchVideo\n",
        "%cd /content/SketchVideo\n",
        "\n",
        "!pip install -q https://huggingface.co/camenduru/densepose/resolve/main/detectron2-0.6-cp310-cp310-linux_x86_64.whl?download=true\n",
        "\n",
        "%cd /content/SketchVideo/layered-neural-atlases\n",
        "!git submodule update --init --recursive\n",
        "\n",
        "%cd /content/SketchVideo/layered-neural-atlases/thirdparty/RAFT\n",
        "\n",
        "# !wget https://www.dropbox.com/s/4j4z58wuv8o0mfz/models.zip\n",
        "!unzip models.zip\n",
        "\n",
        "!pip install git+https://github.com/openai/CLIP\n",
        "\n",
        "%cd /content/SketchVideo/diffvg\n",
        "!git submodule update --init --recursive\n",
        "!python setup.py install -v\n",
        "\n",
        "%cd /content/SketchVideo\n",
        "# !wget https://data.vision.ee.ethz.ch/csergi/share/davis/DAVIS-2017-Unsupervised-trainval-Full-Resolution.zip\n",
        "!unzip DAVIS-2017-Unsupervised-trainval-Full-Resolution.zip\n",
        "\n",
        "!pip install -q icecream\n",
        "\n",
        "%cd /content/SketchVideo/data\n",
        "!python process_dataset.py --mask_folder DAVIS/Annotations/Full-Resolution --image_folder DAVIS/JPEGImages/Full-Resolution --output_folder dataset --size 1080 1080\n",
        "\n",
        "%cd /content/SketchVideo/layered-neural-atlases\n",
        "\n",
        "# !python preprocess_optical_flow.py --vid-path /content/SketchVideo/data/dataset/car-turn/imgs_crop --max_long_edge 224\n",
        "!python preprocess_optical_flow.py --vid-path /content/SketchVideo/data/dataset/car-turn/imgs_bg_crop --max_long_edge 224\n",
        "\n",
        "# !python args.py --data_folder /content/SketchVideo/data/dataset/car-turn/imgs_crop \\\n",
        "#  --bg_folder /content/SketchVideo/data/dataset/car-turn/imgs_bg_crop \\\n",
        "#  --evaluate_at 10000 --result_folder ./content/SketchVideo/data/dataset/car-turn/results --resx 224 --resy 224 \n",
        " \n",
        "# !python train.py config/config.json\n",
        "\n",
        "%cd /content/SketchVideo/CLIPavideo\n",
        "\n",
        "!python run_object_sketching.py --target_file car-turn --focus foreground --data_folder ../data/dataset/car-turn --consist_param 3.0 --num_strokes 50 --num_iter 3001 --atlas_epoch '050000' --clip_model_name \"RN101\" --num_of_frames 60\n",
        "!python run_object_sketching.py --target_file car-turn --focus background --data_folder ../data/dataset/car-turn --consist_param 0.15 --num_strokes 256 --num_iter 3001 --atlas_epoch '050000' --clip_model_name \"ViT-B/32\" --num_of_frames 60\n"
      ]
    }
  ],
  "metadata": {
    "accelerator": "GPU",
    "colab": {
      "gpuType": "T4",
      "provenance": []
    },
    "kernelspec": {
      "display_name": "Python 3",
      "name": "python3"
    },
    "language_info": {
      "name": "python"
    }
  },
  "nbformat": 4,
  "nbformat_minor": 0
}
