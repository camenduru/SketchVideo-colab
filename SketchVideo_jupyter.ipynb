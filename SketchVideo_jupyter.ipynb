{
  "cells": [
    {
      "cell_type": "markdown",
      "metadata": {
        "id": "view-in-github"
      },
      "source": [
        "[![Open In Colab](https://colab.research.google.com/assets/colab-badge.svg)](https://colab.research.google.com/github/camenduru/SketchVideo-jupyter/blob/main/SketchVideo_jupyter.ipynb)"
      ]
    },
    {
      "cell_type": "code",
      "execution_count": null,
      "metadata": {
        "id": "VjYy0F2gZIPR"
      },
      "outputs": [],
      "source": [
        "%cd /content\n",
        "!git clone --recursive -b v1.0 https://github.com/camenduru/SketchVideo\n",
        "%cd /content/SketchVideo\n",
        "\n",
        "!pip uninstall tensorflow -y\n",
        "!pip install -q https://github.com/camenduru/wheels/releases/download/colab/detectron2-0.6-cp310-cp310-linux_x86_64.whl\n",
        "!pip install -q https://github.com/camenduru/wheels/releases/download/colab/diffvg-0.0.1-cp310-cp310-linux_x86_64.whl\n",
        "!pip install -q git+https://github.com/openai/CLIP\n",
        "!pip install -q icecream wandb cssutils natsort\n",
        "\n",
        "%cd /content/SketchVideo/layered-neural-atlases/thirdparty/RAFT\n",
        "!wget https://huggingface.co/camenduru/SketchVideo/resolve/main/models.zip\n",
        "!unzip models.zip\n",
        "\n",
        "%cd /content/SketchVideo\n",
        "!wget https://huggingface.co/camenduru/SketchVideo/resolve/main/DAVIS-2017-Unsupervised-trainval-Full-Resolution.zip\n",
        "!unzip DAVIS-2017-Unsupervised-trainval-Full-Resolution.zip"
      ]
    },
    {
      "cell_type": "code",
      "execution_count": null,
      "metadata": {},
      "outputs": [],
      "source": [
        "%cd /content/SketchVideo/data\n",
        "!python process_dataset.py --mask_folder DAVIS/Annotations/Full-Resolution --image_folder DAVIS/JPEGImages/Full-Resolution --output_folder dataset --size 1080 1080\n",
        "\n",
        "%cd /content/SketchVideo/layered-neural-atlases\n",
        "!python preprocess_optical_flow.py --vid-path /content/SketchVideo/data/dataset/car-turn/imgs_crop --max_long_edge 224\n",
        "\n",
        "%cd /content/SketchVideo/layered-neural-atlases\n",
        "!python ../data/args.py --data_folder ../data/dataset/car-turn/imgs_crop --bg_folder ../data/dataset/car-turn/imgs_bg_crop  --evaluate_at 10000 --result_folder ../data/dataset/car-turn/results --resx 224 --resy 224 \n",
        "\n",
        "%cd /content/SketchVideo/layered-neural-atlases\n",
        "!python train.py config/config.json"
      ]
    },
    {
      "cell_type": "code",
      "execution_count": null,
      "metadata": {},
      "outputs": [],
      "source": [
        "!mv /content/SketchVideo/data/dataset/car-turn/results/imgs_crop_02_07_2024__21_20_07_064766_/* /content/SketchVideo/data/dataset/car-turn/results/"
      ]
    },
    {
      "cell_type": "code",
      "execution_count": null,
      "metadata": {},
      "outputs": [],
      "source": [
        "%cd /content/SketchVideo/CLIPavideo\n",
        "!python run_object_sketching.py --target_file car-turn --focus foreground --data_folder /content/SketchVideo/data/dataset/car-turn --consist_param 3.0 --num_strokes 50 --num_iter 3001 --atlas_epoch '010000' --clip_model_name \"RN101\" --num_of_frames 60"
      ]
    },
    {
      "cell_type": "code",
      "execution_count": null,
      "metadata": {},
      "outputs": [],
      "source": [
        "%cd /content/SketchVideo/CLIPavideo\n",
        "!python run_object_sketching.py --target_file car-turn --focus background --data_folder /content/SketchVideo/data/dataset/car-turn --consist_param 0.15 --num_strokes 256 --num_iter 3001 --atlas_epoch '010000' --clip_model_name \"ViT-B/32\" --num_of_frames 60"
      ]
    }
  ],
  "metadata": {
    "accelerator": "GPU",
    "colab": {
      "gpuType": "T4",
      "provenance": []
    },
    "kernelspec": {
      "display_name": "Python 3",
      "name": "python3"
    },
    "language_info": {
      "name": "python"
    }
  },
  "nbformat": 4,
  "nbformat_minor": 0
}
